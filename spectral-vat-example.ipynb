########  Note: keep spectralvat.py file in the same path as this notebook ###########

from spectralvat import specvat
import networkx as nx
import matplotlib.pyplot as plt

################### simple graph data creation###############
G_t1 = nx.star_graph(5)

G_t1.add_edge(1, 2)
G_t1.add_edge(1, 3)
G_t1.add_edge(2, 3)
G_t1.add_edge(3, 4)
G_t1.add_edge(2, 4)
G_t1.add_edge(5, 6)
G_t1.add_edge(5, 7)
G_t1.add_edge(5, 8)
G_t1.add_edge(6, 9)
G_t1.add_edge(7, 9)
G_t1.add_edge(7, 8)
G_t1.add_edge(6, 7)
G_t1.add_edge(9, 8)

# illustrate graph
nx.draw(G_t1, node_color = 'green', with_labels = True,node_size = 200)


############## applying specvat ################################
k=2
sv = specvat(G_t1,k)
rv1 = sv.vat()
rv2 =  sv.ivat()

############ Plotting reordered dissimilarity matrices #########

plt.figure(figsize=(10, 10))
plt.subplot(1, 2, 1)
plt.imshow(rv1[0], cmap='gray')
plt.title('VAT')
plt.subplot(1, 2, 2)
plt.imshow(rv2[0], cmap='gray')
plt.title('iVAT')
